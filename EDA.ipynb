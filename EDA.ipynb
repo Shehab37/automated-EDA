{
 "cells": [
  {
   "cell_type": "code",
   "execution_count": 21,
   "metadata": {},
   "outputs": [],
   "source": [
    "import pandas as pd\n",
    "import seaborn as sns\n",
    "import matplotlib.pyplot as plt\n",
    "import os\n",
    "# Comment this if the data visualisations doesn't work on your side\n",
    "%matplotlib inline\n",
    "\n",
    "plt.style.use('bmh')\n"
   ]
  },
  {
   "cell_type": "code",
   "execution_count": 71,
   "metadata": {},
   "outputs": [],
   "source": [
    "# a function that performs automatic EDA on a file it can either be csv or xlsx\n",
    "def auto_eda(in_path):\n",
    "    if os.path.isfile(in_path):\n",
    "        print(f'analyzing {in_path}')\n",
    "        file_type = in_path.split('.')[-1]\n",
    "        if file_type == 'csv':\n",
    "            df = pd.read_csv(in_path)\n",
    "        elif file_type == 'xlsx':\n",
    "            df = pd.read_excel(in_path)\n",
    "        else:\n",
    "            print('File type not supported')\n",
    "            return\n",
    "    else:\n",
    "        print(f'analyzing folder {in_path}')\n",
    "        [auto_eda(os.path.join(in_path , i)) for i in os.listdir(in_path)]\n",
    "        return\n",
    "\n",
    "\n",
    "    total = df.isnull().sum().sort_values(ascending=False)\n",
    "    percent = (df.isnull().sum()/df.isnull().count()).sort_values(ascending=False)\n",
    "    missing_data = pd.concat([total, percent], axis=1, keys=['Total', 'Percent'])\n",
    "    print(missing_data.head(20))\n",
    "    # # print the first 5 rows of the dataframe\n",
    "    # print(df.head())\n",
    "\n",
    "    # # print the last 5 rows of the dataframe\n",
    "    # print(df.tail())\n",
    "\n",
    "    # # print the shape of the dataframe\n",
    "    # print(df.shape)\n",
    "\n",
    "    # # print the columns of the dataframe\n",
    "    # print(df.columns)\n",
    "\n",
    "    # print the info of the dataframe\n",
    "    # print(df.info())\n",
    "\n",
    "    # print the describe of the dataframe\n",
    "    # print(df.describe())\n",
    "\n",
    "    # # print the correlation of the dataframe\n",
    "    # print(df.corr())\n",
    "\n",
    "    # # plot the correlation of the dataframe\n",
    "    # sns.heatmap(df.corr(), annot=True)\n",
    "    # plt.show()\n",
    "\n",
    "    # # plot the histogram of the dataframe\n",
    "    # df.hist(bins=50, figsize=(20, 15))\n",
    "    # plt.show()\n",
    "\n",
    "    # # plot the boxplot of the dataframe\n",
    "    # df.plot(kind='box', subplots=True, layout=(3, 3), sharex=False, sharey=False)\n",
    "    # plt.show()\n",
    "\n",
    "    # # plot the areaplot of the dataframe\n",
    "    # df.plot(kind='area', subplots=True, layout=(3, 3), sharex=False)\n",
    "    # plt.show()\n",
    "\n",
    "    # # plot the histogram of the dataframe\n",
    "    # df.plot(kind='hist', subplots=True, layout=(3, 3), sharex=False)\n",
    "    # plt.show()\n",
    "\n",
    "    # # # plot the scatterplot of the dataframe\n",
    "    # # df.plot(kind='scatter', subplots=True, layout=(3, 3), sharex=False)\n",
    "    # # plt.show()\n",
    "\n",
    "    # # plot the density of the dataframe\n",
    "    # df.plot(kind='density', subplots=True, layout=(3, 3), sharex=False)\n",
    "    # plt.show()\n",
    "\n",
    "    # # plot the barplot of the dataframe\n",
    "    # df.plot(kind='bar', subplots=True, layout=(3, 3), sharex=False)\n",
    "    # plt.show()\n",
    "    print(f'end of analysis of {in_path}')\n"
   ]
  },
  {
   "cell_type": "code",
   "execution_count": 72,
   "metadata": {},
   "outputs": [
    {
     "data": {
      "text/plain": [
       "['Data Police shootings', 'EDA.ipynb', 'Retail Data Analytics']"
      ]
     },
     "execution_count": 72,
     "metadata": {},
     "output_type": "execute_result"
    }
   ],
   "source": [
    "os.listdir('.')"
   ]
  },
  {
   "cell_type": "code",
   "execution_count": 73,
   "metadata": {},
   "outputs": [
    {
     "name": "stdout",
     "output_type": "stream",
     "text": [
      "analyzing folder .\\data police shootings\n",
      "analyzing .\\data police shootings\\fatal-police-shootings-data.csv\n",
      "                         Total   Percent\n",
      "race                       521  0.096196\n",
      "flee                       249  0.045975\n",
      "age                        235  0.043390\n",
      "armed                      227  0.041913\n",
      "gender                       2  0.000369\n",
      "id                           0  0.000000\n",
      "name                         0  0.000000\n",
      "date                         0  0.000000\n",
      "manner_of_death              0  0.000000\n",
      "city                         0  0.000000\n",
      "state                        0  0.000000\n",
      "signs_of_mental_illness      0  0.000000\n",
      "threat_level                 0  0.000000\n",
      "body_camera                  0  0.000000\n",
      "end of analysis of .\\data police shootings\\fatal-police-shootings-data.csv\n"
     ]
    }
   ],
   "source": [
    "# test the function \n",
    "auto_eda('.\\\\data police shootings')\n"
   ]
  },
  {
   "cell_type": "code",
   "execution_count": 74,
   "metadata": {},
   "outputs": [
    {
     "name": "stdout",
     "output_type": "stream",
     "text": [
      "analyzing folder .\\Retail Data Analytics\n",
      "analyzing .\\Retail Data Analytics\\Features data set.csv\n",
      "              Total   Percent\n",
      "MarkDown2      5269  0.643346\n",
      "MarkDown4      4726  0.577045\n",
      "MarkDown3      4577  0.558852\n",
      "MarkDown1      4158  0.507692\n",
      "MarkDown5      4140  0.505495\n",
      "CPI             585  0.071429\n",
      "Unemployment    585  0.071429\n",
      "Store             0  0.000000\n",
      "Date              0  0.000000\n",
      "Temperature       0  0.000000\n",
      "Fuel_Price        0  0.000000\n",
      "IsHoliday         0  0.000000\n",
      "end of analysis of .\\Retail Data Analytics\\Features data set.csv\n",
      "analyzing .\\Retail Data Analytics\\sales data-set.csv\n",
      "              Total  Percent\n",
      "Store             0      0.0\n",
      "Dept              0      0.0\n",
      "Date              0      0.0\n",
      "Weekly_Sales      0      0.0\n",
      "IsHoliday         0      0.0\n",
      "end of analysis of .\\Retail Data Analytics\\sales data-set.csv\n",
      "analyzing .\\Retail Data Analytics\\stores data-set.csv\n",
      "       Total  Percent\n",
      "Store      0      0.0\n",
      "Type       0      0.0\n",
      "Size       0      0.0\n",
      "end of analysis of .\\Retail Data Analytics\\stores data-set.csv\n"
     ]
    }
   ],
   "source": [
    "auto_eda('.\\\\Retail Data Analytics')\n"
   ]
  },
  {
   "cell_type": "code",
   "execution_count": null,
   "metadata": {},
   "outputs": [],
   "source": []
  },
  {
   "cell_type": "code",
   "execution_count": null,
   "metadata": {},
   "outputs": [],
   "source": []
  }
 ],
 "metadata": {
  "kernelspec": {
   "display_name": "Python 3.9.12 ('base')",
   "language": "python",
   "name": "python3"
  },
  "language_info": {
   "codemirror_mode": {
    "name": "ipython",
    "version": 3
   },
   "file_extension": ".py",
   "mimetype": "text/x-python",
   "name": "python",
   "nbconvert_exporter": "python",
   "pygments_lexer": "ipython3",
   "version": "3.9.12"
  },
  "orig_nbformat": 4,
  "vscode": {
   "interpreter": {
    "hash": "ad2bdc8ecc057115af97d19610ffacc2b4e99fae6737bb82f5d7fb13d2f2c186"
   }
  }
 },
 "nbformat": 4,
 "nbformat_minor": 2
}
